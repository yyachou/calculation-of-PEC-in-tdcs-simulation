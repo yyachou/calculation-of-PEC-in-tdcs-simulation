{
  "cells": [
    {
      "cell_type": "markdown",
      "metadata": {
        "id": "view-in-github",
        "colab_type": "text"
      },
      "source": [
        "<a href=\"https://colab.research.google.com/github/yyachou/calculation-of-PEC-in-tdcs-simulation/blob/main/visualize_results.ipynb\" target=\"_parent\"><img src=\"https://colab.research.google.com/assets/colab-badge.svg\" alt=\"Open In Colab\"/></a>"
      ]
    },
    {
      "cell_type": "code",
      "source": [
        "import numpy as np\n",
        "import os\n",
        "import simnibs\n",
        "from mayavi import mlab\n",
        "\n",
        "# Load the chosen output from the previous code (choose one)\n",
        "output_file = 'path/to/your/results/Subject_overlay_results/correlation/pearson_correlation.npy'\n",
        "# output_file = 'path/to/your/results/Subject_overlay_results/correlation/spearman_correlation.npy'\n",
        "# output_file = 'path/to/your/results/Subject_overlay_results/correlation/negative_log_p_values_pearson.npy'\n",
        "# output_file = 'path/to/your/results/Subject_overlay_results/correlation/negative_log_p_values_spearman.npy'\n",
        "\n",
        "# Load the transformed array from the chosen .npy file\n",
        "data = np.load(output_file)\n",
        "\n",
        "# Print the dimensions of the updated array\n",
        "print(\"Dimensions of data:\", data.shape)\n",
        "\n",
        "# Create data_flipped by changing the sign of all elements in data (if necessary)\n",
        "data_flipped = data * 1\n",
        "\n",
        "# Load the original mesh file (use the last mesh file generated in the previous loop)\n",
        "mesh_file = os.path.join('path/to/your/simulation/m2m_subject_id', 'subject_id_TDCS_1_scalar.msh')\n",
        "mesh_head = simnibs.read_msh(mesh_file)\n",
        "\n",
        "# Crop the mesh to keep only the gray matter (tag 2)\n",
        "gray_matter = mesh_head.crop_mesh(2)\n",
        "\n",
        "# Interpolate the chosen values from the elements to the nodes\n",
        "M = gray_matter.elm2node_matrix()\n",
        "data_nodal = M.dot(data_flipped)\n",
        "\n",
        "# Add the chosen values as a nodal field\n",
        "data_field = simnibs.NodeData(data_nodal, name='Data')\n",
        "gray_matter.add_node_field(data_field, '-Data')\n",
        "\n",
        "# Save the updated mesh with the chosen values\n",
        "output_mesh_file = 'path/to/your/updated_mesh_with_data_values.msh'\n",
        "gray_matter.write(output_mesh_file)\n",
        "\n",
        "# Load the updated mesh with chosen values\n",
        "mesh = simnibs.read_msh(output_mesh_file)\n",
        "\n",
        "print(\"Loaded mesh fields:\", mesh.field.keys())\n"
      ],
      "metadata": {
        "id": "GOpUmFLW3OIf"
      },
      "id": "GOpUmFLW3OIf",
      "execution_count": null,
      "outputs": []
    }
  ],
  "metadata": {
    "colab": {
      "provenance": [],
      "include_colab_link": true
    }
  },
  "nbformat": 4,
  "nbformat_minor": 5
}