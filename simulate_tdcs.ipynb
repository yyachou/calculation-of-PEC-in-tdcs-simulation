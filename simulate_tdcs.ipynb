{
  "nbformat": 4,
  "nbformat_minor": 0,
  "metadata": {
    "colab": {
      "provenance": [],
      "authorship_tag": "ABX9TyOjf4lwhFrvWDzcc2lBtTAj",
      "include_colab_link": true
    },
    "kernelspec": {
      "name": "python3",
      "display_name": "Python 3"
    },
    "language_info": {
      "name": "python"
    }
  },
  "cells": [
    {
      "cell_type": "markdown",
      "metadata": {
        "id": "view-in-github",
        "colab_type": "text"
      },
      "source": [
        "<a href=\"https://colab.research.google.com/github/yyachou/calculation-of-PEC-in-tdcs-simulation/blob/main/simulate_tdcs.ipynb\" target=\"_parent\"><img src=\"https://colab.research.google.com/assets/colab-badge.svg\" alt=\"Open In Colab\"/></a>"
      ]
    },
    {
      "cell_type": "code",
      "execution_count": null,
      "metadata": {
        "id": "EC0ZjNatDaMk"
      },
      "outputs": [],
      "source": [
        "from simnibs import sim_struct, run_simnibs\n",
        "import pandas as pd\n",
        "import subprocess\n",
        "\n",
        "# Load the CSV file\n",
        "file_path = 'path/to/your/montage_configurations.csv'  # Replace with the path to your CSV file with montage configuration : current, position, anode and cathode configurations etc\n",
        "df = pd.read_csv(file_path)\n",
        "\n",
        "# Initialize a simnibs session\n",
        "s = sim_struct.SESSION()\n",
        "s.subpath = 'path/to/your/head_models/m2m_folders/subject_id/m2m_subject_id'  # Path to the head mesh\n",
        "s.pathfem = 'path/to/your/head_models/simulation/subject_id'  # Output folder for simulations\n",
        "\n",
        "# Loop over the rows in the dataframe and set up each simulation\n",
        "for index, row in df.iterrows():\n",
        "    # Initialize a tDCS simulation\n",
        "    tdcslist = s.add_tdcslist()\n",
        "    tdcslist.currents = [-row['current'] * 1e-3, row['current'] * 1e-3]\n",
        "\n",
        "    # Set up the anode electrode\n",
        "    anode = tdcslist.add_electrode()\n",
        "    anode.channelnr = 2\n",
        "    anode.dimensions = [int(x) for x in row['anode_dimensions'].split(',')]\n",
        "    anode.shape = row['anode.shape']\n",
        "    anode.thickness = row['anode.thickness']\n",
        "    anode.centre = row['anode']\n",
        "    anode.pos_ydir = 'Fpz'\n",
        "\n",
        "    # Set up the cathode electrode\n",
        "    cathode = tdcslist.add_electrode()\n",
        "    cathode.channelnr = 1\n",
        "    cathode.dimensions = [int(x) for x in row['anode_dimensions'].split(',')]\n",
        "    cathode.shape = row['anode.shape']\n",
        "    cathode.thickness = row['anode.thickness']\n",
        "    cathode.centre = row['cathode']\n",
        "    cathode.pos_ydir = 'Fpz'\n",
        "\n",
        "# Run the simulations\n",
        "run_simnibs(s)\n"
      ]
    }
  ]
}