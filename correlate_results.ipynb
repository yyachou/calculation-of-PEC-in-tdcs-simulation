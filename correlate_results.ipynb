{
  "cells": [
    {
      "cell_type": "markdown",
      "metadata": {
        "id": "view-in-github",
        "colab_type": "text"
      },
      "source": [
        "<a href=\"https://colab.research.google.com/github/yyachou/calculation-of-PEC-in-tdcs-simulation/blob/main/correlate_results.ipynb\" target=\"_parent\"><img src=\"https://colab.research.google.com/assets/colab-badge.svg\" alt=\"Open In Colab\"/></a>"
      ]
    },
    {
      "cell_type": "code",
      "source": [
        "import numpy as np\n",
        "import scipy.stats\n",
        "import os\n",
        "\n",
        "# Load your data\n",
        "matrice_totale = np.load('path/to/your/results/Subject_overlay_results/E_magn_matrix_fsavg.npy')\n",
        "\n",
        "# Example effect size data (replace with your actual data)\n",
        "effect_size_totale = np.array([\n",
        "    -0.02, 1.295, 1.796, 1.389, 1.808, 1.354,\n",
        "    1.825, 0.426, 0.111, 0.534, 0.158, 1.751,\n",
        "    -0.135, 0.447, 0.183, 1.1, 0.92, 0.26,\n",
        "    -0.316, 0.59, 2.12, 1.08, 3.439, 1.336,\n",
        "    0.245, 1.335, 1.306, 1.121, 1.810, 1.191,\n",
        "    0.486, 0.209\n",
        "])\n",
        "# Make sure that the number of columns in the matrix matches the number of effect sizes\n",
        "# Also ensure that the first effect size matches the simulation result of the first column, and so on\n",
        "# Define the output directory for correlation results\n",
        "output_dir = 'path/to/your/results/Subject_overlay_results/correlation'\n",
        "os.makedirs(output_dir, exist_ok=True)  # Create the directory if it does not exist\n",
        "\n",
        "# Initialize lists to store results\n",
        "pearson_coefficients = []\n",
        "spearman_coefficients = []\n",
        "negative_log_p_values_pearson = []\n",
        "negative_log_p_values_spearman = []\n",
        "\n",
        "# Calculate correlations and negative log p-values\n",
        "for x in range(matrice_totale.shape[0]):\n",
        "    pearson_coef, pearson_p_val = scipy.stats.pearsonr(matrice_totale[x], effect_size_totale)\n",
        "    spearman_coef, spearman_p_val = scipy.stats.spearmanr(matrice_totale[x], effect_size_totale)\n",
        "\n",
        "    # Handle negative correlations\n",
        "    if pearson_coef < 0:\n",
        "        pearson_coef = 0\n",
        "        pearson_p_val = 1\n",
        "    if spearman_coef < 0:\n",
        "        spearman_coef = 0\n",
        "        spearman_p_val = 1\n",
        "\n",
        "    # Store coefficients\n",
        "    pearson_coefficients.append(pearson_coef)\n",
        "    spearman_coefficients.append(spearman_coef)\n",
        "\n",
        "    # Calculate and store negative log p-values\n",
        "    neg_log_p_val_pearson = -np.log(max(pearson_p_val, 1e-300))\n",
        "    neg_log_p_val_spearman = -np.log(max(spearman_p_val, 1e-300))\n",
        "    negative_log_p_values_pearson.append(neg_log_p_val_pearson)\n",
        "    negative_log_p_values_spearman.append(neg_log_p_val_spearman)\n",
        "\n",
        "# Save results to files in the specified directory\n",
        "np.save(os.path.join(output_dir, 'pearson_correlation.npy'), pearson_coefficients)\n",
        "np.save(os.path.join(output_dir, 'spearman_correlation.npy'), spearman_coefficients)\n",
        "np.save(os.path.join(output_dir, 'negative_log_p_values_pearson.npy'), negative_log_p_values_pearson)\n",
        "np.save(os.path.join(output_dir, 'negative_log_p_values_spearman.npy'), negative_log_p_values_spearman)\n"
      ],
      "metadata": {
        "id": "z_8uHAB53GCo",
        "colab": {
          "base_uri": "https://localhost:8080/",
          "height": 332
        },
        "outputId": "b5ac8688-33b3-4eee-b90a-ae7c59c964c3"
      },
      "id": "z_8uHAB53GCo",
      "execution_count": 1,
      "outputs": [
        {
          "output_type": "error",
          "ename": "FileNotFoundError",
          "evalue": "[Errno 2] No such file or directory: 'path/to/your/results/Subject_overlay_results/E_magn_matrix_fsavg.npy'",
          "traceback": [
            "\u001b[0;31m---------------------------------------------------------------------------\u001b[0m",
            "\u001b[0;31mFileNotFoundError\u001b[0m                         Traceback (most recent call last)",
            "\u001b[0;32m<ipython-input-1-add9151df4af>\u001b[0m in \u001b[0;36m<cell line: 6>\u001b[0;34m()\u001b[0m\n\u001b[1;32m      4\u001b[0m \u001b[0;34m\u001b[0m\u001b[0m\n\u001b[1;32m      5\u001b[0m \u001b[0;31m# Load your data\u001b[0m\u001b[0;34m\u001b[0m\u001b[0;34m\u001b[0m\u001b[0m\n\u001b[0;32m----> 6\u001b[0;31m \u001b[0mmatrice_totale\u001b[0m \u001b[0;34m=\u001b[0m \u001b[0mnp\u001b[0m\u001b[0;34m.\u001b[0m\u001b[0mload\u001b[0m\u001b[0;34m(\u001b[0m\u001b[0;34m'path/to/your/results/Subject_overlay_results/E_magn_matrix_fsavg.npy'\u001b[0m\u001b[0;34m)\u001b[0m\u001b[0;34m\u001b[0m\u001b[0;34m\u001b[0m\u001b[0m\n\u001b[0m\u001b[1;32m      7\u001b[0m \u001b[0;34m\u001b[0m\u001b[0m\n\u001b[1;32m      8\u001b[0m \u001b[0;31m# Example effect size data (replace with your actual data)\u001b[0m\u001b[0;34m\u001b[0m\u001b[0;34m\u001b[0m\u001b[0m\n",
            "\u001b[0;32m/usr/local/lib/python3.10/dist-packages/numpy/lib/npyio.py\u001b[0m in \u001b[0;36mload\u001b[0;34m(file, mmap_mode, allow_pickle, fix_imports, encoding, max_header_size)\u001b[0m\n\u001b[1;32m    425\u001b[0m             \u001b[0mown_fid\u001b[0m \u001b[0;34m=\u001b[0m \u001b[0;32mFalse\u001b[0m\u001b[0;34m\u001b[0m\u001b[0;34m\u001b[0m\u001b[0m\n\u001b[1;32m    426\u001b[0m         \u001b[0;32melse\u001b[0m\u001b[0;34m:\u001b[0m\u001b[0;34m\u001b[0m\u001b[0;34m\u001b[0m\u001b[0m\n\u001b[0;32m--> 427\u001b[0;31m             \u001b[0mfid\u001b[0m \u001b[0;34m=\u001b[0m \u001b[0mstack\u001b[0m\u001b[0;34m.\u001b[0m\u001b[0menter_context\u001b[0m\u001b[0;34m(\u001b[0m\u001b[0mopen\u001b[0m\u001b[0;34m(\u001b[0m\u001b[0mos_fspath\u001b[0m\u001b[0;34m(\u001b[0m\u001b[0mfile\u001b[0m\u001b[0;34m)\u001b[0m\u001b[0;34m,\u001b[0m \u001b[0;34m\"rb\"\u001b[0m\u001b[0;34m)\u001b[0m\u001b[0;34m)\u001b[0m\u001b[0;34m\u001b[0m\u001b[0;34m\u001b[0m\u001b[0m\n\u001b[0m\u001b[1;32m    428\u001b[0m             \u001b[0mown_fid\u001b[0m \u001b[0;34m=\u001b[0m \u001b[0;32mTrue\u001b[0m\u001b[0;34m\u001b[0m\u001b[0;34m\u001b[0m\u001b[0m\n\u001b[1;32m    429\u001b[0m \u001b[0;34m\u001b[0m\u001b[0m\n",
            "\u001b[0;31mFileNotFoundError\u001b[0m: [Errno 2] No such file or directory: 'path/to/your/results/Subject_overlay_results/E_magn_matrix_fsavg.npy'"
          ]
        }
      ]
    },
    {
      "cell_type": "code",
      "source": [],
      "metadata": {
        "id": "JMh1UGXQF5yx"
      },
      "id": "JMh1UGXQF5yx",
      "execution_count": null,
      "outputs": []
    }
  ],
  "metadata": {
    "colab": {
      "provenance": [],
      "include_colab_link": true
    },
    "language_info": {
      "name": "python"
    },
    "kernelspec": {
      "name": "python3",
      "display_name": "Python 3"
    }
  },
  "nbformat": 4,
  "nbformat_minor": 5
}