{
  "cells": [
    {
      "cell_type": "markdown",
      "metadata": {
        "id": "view-in-github",
        "colab_type": "text"
      },
      "source": [
        "<a href=\"https://colab.research.google.com/github/yyachou/calculation-of-PEC-in-tdcs-simulation/blob/main/create_matrice_totale.ipynb\" target=\"_parent\"><img src=\"https://colab.research.google.com/assets/colab-badge.svg\" alt=\"Open In Colab\"/></a>"
      ]
    },
    {
      "cell_type": "code",
      "execution_count": null,
      "id": "d4253a6f",
      "metadata": {
        "id": "d4253a6f",
        "outputId": "9f66a84d-e6a7-449a-f2e5-a53c89c0063c"
      },
      "outputs": [
        {
          "name": "stdout",
          "output_type": "stream",
          "text": [
            "Starting to process mesh files...\n",
            "Processing /home/yassine/simulation/m2m_105923/105923_TDCS_1_scalar.msh...\n",
            "Processing /home/yassine/simulation/m2m_105923/105923_TDCS_2_scalar.msh...\n",
            "Processing /home/yassine/simulation/m2m_105923/105923_TDCS_3_scalar.msh...\n",
            "Processing /home/yassine/simulation/m2m_105923/105923_TDCS_4_scalar.msh...\n",
            "Processing /home/yassine/simulation/m2m_105923/105923_TDCS_5_scalar.msh...\n",
            "Processing /home/yassine/simulation/m2m_105923/105923_TDCS_6_scalar.msh...\n",
            "Processing /home/yassine/simulation/m2m_105923/105923_TDCS_7_scalar.msh...\n",
            "Processing /home/yassine/simulation/m2m_105923/105923_TDCS_8_scalar.msh...\n",
            "Processing /home/yassine/simulation/m2m_105923/105923_TDCS_9_scalar.msh...\n",
            "Processing /home/yassine/simulation/m2m_105923/105923_TDCS_10_scalar.msh...\n",
            "Processing /home/yassine/simulation/m2m_105923/105923_TDCS_11_scalar.msh...\n",
            "Processing /home/yassine/simulation/m2m_105923/105923_TDCS_12_scalar.msh...\n",
            "Processing /home/yassine/simulation/m2m_105923/105923_TDCS_13_scalar.msh...\n",
            "Processing /home/yassine/simulation/m2m_105923/105923_TDCS_14_scalar.msh...\n",
            "Processing /home/yassine/simulation/m2m_105923/105923_TDCS_15_scalar.msh...\n",
            "Processing /home/yassine/simulation/m2m_105923/105923_TDCS_16_scalar.msh...\n",
            "Processing /home/yassine/simulation/m2m_105923/105923_TDCS_17_scalar.msh...\n",
            "Processing /home/yassine/simulation/m2m_105923/105923_TDCS_18_scalar.msh...\n",
            "Processing /home/yassine/simulation/m2m_105923/105923_TDCS_19_scalar.msh...\n",
            "Processing /home/yassine/simulation/m2m_105923/105923_TDCS_20_scalar.msh...\n",
            "Processing /home/yassine/simulation/m2m_105923/105923_TDCS_21_scalar.msh...\n",
            "Processing /home/yassine/simulation/m2m_105923/105923_TDCS_22_scalar.msh...\n",
            "Processing /home/yassine/simulation/m2m_105923/105923_TDCS_23_scalar.msh...\n",
            "Processing /home/yassine/simulation/m2m_105923/105923_TDCS_24_scalar.msh...\n",
            "Processing /home/yassine/simulation/m2m_105923/105923_TDCS_25_scalar.msh...\n",
            "Processing /home/yassine/simulation/m2m_105923/105923_TDCS_26_scalar.msh...\n",
            "Processing /home/yassine/simulation/m2m_105923/105923_TDCS_27_scalar.msh...\n",
            "Processing /home/yassine/simulation/m2m_105923/105923_TDCS_28_scalar.msh...\n",
            "Processing /home/yassine/simulation/m2m_105923/105923_TDCS_29_scalar.msh...\n",
            "Processing /home/yassine/simulation/m2m_105923/105923_TDCS_30_scalar.msh...\n",
            "Processing /home/yassine/simulation/m2m_105923/105923_TDCS_31_scalar.msh...\n",
            "Processing /home/yassine/simulation/m2m_105923/105923_TDCS_32_scalar.msh...\n",
            "Processing /home/yassine/simulation/m2m_105923/105923_TDCS_33_scalar.msh...\n",
            "Finished processing mesh files.\n",
            "matrice_totale saved to /home/yassine/simulation/m2m_105923/matrice_totale_m2m_105923.npy\n"
          ]
        }
      ],
      "source": [
        "import os\n",
        "import glob\n",
        "import numpy as np\n",
        "import simnibs\n",
        "\n",
        "def create_matrice_totale(mesh_dir, verbose=False):\n",
        "    if verbose:\n",
        "        print(\"Starting to process mesh files...\")\n",
        "\n",
        "    # Find all mesh files and sort them\n",
        "    mesh_files = sorted(glob.glob(os.path.join(mesh_dir, '*.msh')), key=lambda x: int(x.split('_')[-2]))\n",
        "\n",
        "    # Initialize a list to hold the data from each mesh\n",
        "    fields = []\n",
        "\n",
        "    # Process each sorted mesh file\n",
        "    for file in mesh_files:\n",
        "        if verbose:\n",
        "            print(f\"Processing {file}...\")\n",
        "\n",
        "        # Read mesh file\n",
        "        mesh = simnibs.read_msh(file)\n",
        "\n",
        "        # Crop to gray matter (assuming label 2 is gray matter)\n",
        "        gray_matter = mesh.crop_mesh(2)\n",
        "\n",
        "        # Extract the field of interest\n",
        "        fields.append(gray_matter.field['magnE'][:])\n",
        "\n",
        "    # Stack the fields horizontally into a matrix\n",
        "    matrice_totale = np.column_stack(fields)\n",
        "\n",
        "    if verbose:\n",
        "        print(\"Finished processing mesh files.\")\n",
        "\n",
        "    return matrice_totale\n",
        "\n",
        "# Define constants and file paths\n",
        "mesh_dir = 'path/to/your/simulation/m2m_subject_id'\n",
        "matrice_totale_file = os.path.join(mesh_dir, 'matrice_totale_m2m_subject_id.npy')\n",
        "\n",
        "# Set verbose flag to True to see the development of the steps\n",
        "verbose = True\n",
        "\n",
        "# Create matrice_totale and save it to a file\n",
        "matrice_totale = create_matrice_totale(mesh_dir, verbose)\n",
        "np.save(matrice_totale_file, matrice_totale)\n",
        "\n",
        "if verbose:\n",
        "    print(f\"matrice_totale saved to {matrice_totale_file}\")\n"
      ]
    },
    {
      "cell_type": "code",
      "execution_count": null,
      "id": "04822eeb",
      "metadata": {
        "id": "04822eeb"
      },
      "outputs": [],
      "source": []
    }
  ],
  "metadata": {
    "kernelspec": {
      "display_name": "Python 3 (ipykernel)",
      "language": "python",
      "name": "python3"
    },
    "language_info": {
      "codemirror_mode": {
        "name": "ipython",
        "version": 3
      },
      "file_extension": ".py",
      "mimetype": "text/x-python",
      "name": "python",
      "nbconvert_exporter": "python",
      "pygments_lexer": "ipython3",
      "version": "3.9.16"
    },
    "colab": {
      "provenance": [],
      "include_colab_link": true
    }
  },
  "nbformat": 4,
  "nbformat_minor": 5
}